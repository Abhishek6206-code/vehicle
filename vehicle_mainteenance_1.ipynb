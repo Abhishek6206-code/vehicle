{
 "cells": [
  {
   "cell_type": "code",
   "execution_count": 1,
   "id": "bf2c4af2-4612-4500-861b-4bffcddbcba2",
   "metadata": {},
   "outputs": [],
   "source": [
    "import pandas as pd\n"
   ]
  },
  {
   "cell_type": "code",
   "execution_count": 2,
   "id": "4595b98f-3fb8-4582-9c58-ae13e2cdb6d9",
   "metadata": {},
   "outputs": [],
   "source": [
    "df=pd.read_csv(\"D:/python/project/vehicle maintenance2/vehicle_maintenance_data.csv\")"
   ]
  },
  {
   "cell_type": "code",
   "execution_count": 3,
   "id": "01860d68-812d-4a83-87ed-04a0ecca5b6a",
   "metadata": {},
   "outputs": [
    {
     "data": {
      "text/html": [
       "<div>\n",
       "<style scoped>\n",
       "    .dataframe tbody tr th:only-of-type {\n",
       "        vertical-align: middle;\n",
       "    }\n",
       "\n",
       "    .dataframe tbody tr th {\n",
       "        vertical-align: top;\n",
       "    }\n",
       "\n",
       "    .dataframe thead th {\n",
       "        text-align: right;\n",
       "    }\n",
       "</style>\n",
       "<table border=\"1\" class=\"dataframe\">\n",
       "  <thead>\n",
       "    <tr style=\"text-align: right;\">\n",
       "      <th></th>\n",
       "      <th>Vehicle_Model</th>\n",
       "      <th>Mileage</th>\n",
       "      <th>Maintenance_History</th>\n",
       "      <th>Reported_Issues</th>\n",
       "      <th>Vehicle_Age</th>\n",
       "      <th>Fuel_Type</th>\n",
       "      <th>Transmission_Type</th>\n",
       "      <th>Engine_Size</th>\n",
       "      <th>Odometer_Reading</th>\n",
       "      <th>Last_Service_Date</th>\n",
       "      <th>Warranty_Expiry_Date</th>\n",
       "      <th>Owner_Type</th>\n",
       "      <th>Insurance_Premium</th>\n",
       "      <th>Service_History</th>\n",
       "      <th>Accident_History</th>\n",
       "      <th>Fuel_Efficiency</th>\n",
       "      <th>Tire_Condition</th>\n",
       "      <th>Brake_Condition</th>\n",
       "      <th>Battery_Status</th>\n",
       "      <th>Need_Maintenance</th>\n",
       "    </tr>\n",
       "  </thead>\n",
       "  <tbody>\n",
       "    <tr>\n",
       "      <th>0</th>\n",
       "      <td>Truck</td>\n",
       "      <td>58765</td>\n",
       "      <td>Good</td>\n",
       "      <td>0</td>\n",
       "      <td>4</td>\n",
       "      <td>Electric</td>\n",
       "      <td>Automatic</td>\n",
       "      <td>2000</td>\n",
       "      <td>28524</td>\n",
       "      <td>2023-11-23</td>\n",
       "      <td>2025-06-24</td>\n",
       "      <td>Second</td>\n",
       "      <td>20782</td>\n",
       "      <td>6</td>\n",
       "      <td>3</td>\n",
       "      <td>13.622204</td>\n",
       "      <td>New</td>\n",
       "      <td>New</td>\n",
       "      <td>Weak</td>\n",
       "      <td>1</td>\n",
       "    </tr>\n",
       "    <tr>\n",
       "      <th>1</th>\n",
       "      <td>Van</td>\n",
       "      <td>60353</td>\n",
       "      <td>Average</td>\n",
       "      <td>1</td>\n",
       "      <td>7</td>\n",
       "      <td>Electric</td>\n",
       "      <td>Automatic</td>\n",
       "      <td>2500</td>\n",
       "      <td>133630</td>\n",
       "      <td>2023-09-21</td>\n",
       "      <td>2025-06-04</td>\n",
       "      <td>Second</td>\n",
       "      <td>23489</td>\n",
       "      <td>7</td>\n",
       "      <td>0</td>\n",
       "      <td>13.625307</td>\n",
       "      <td>New</td>\n",
       "      <td>New</td>\n",
       "      <td>Weak</td>\n",
       "      <td>1</td>\n",
       "    </tr>\n",
       "    <tr>\n",
       "      <th>2</th>\n",
       "      <td>Bus</td>\n",
       "      <td>68072</td>\n",
       "      <td>Poor</td>\n",
       "      <td>0</td>\n",
       "      <td>2</td>\n",
       "      <td>Electric</td>\n",
       "      <td>Automatic</td>\n",
       "      <td>1500</td>\n",
       "      <td>34022</td>\n",
       "      <td>2023-06-27</td>\n",
       "      <td>2025-04-27</td>\n",
       "      <td>First</td>\n",
       "      <td>17979</td>\n",
       "      <td>7</td>\n",
       "      <td>0</td>\n",
       "      <td>14.306302</td>\n",
       "      <td>New</td>\n",
       "      <td>Good</td>\n",
       "      <td>Weak</td>\n",
       "      <td>1</td>\n",
       "    </tr>\n",
       "    <tr>\n",
       "      <th>3</th>\n",
       "      <td>Bus</td>\n",
       "      <td>60849</td>\n",
       "      <td>Average</td>\n",
       "      <td>4</td>\n",
       "      <td>5</td>\n",
       "      <td>Petrol</td>\n",
       "      <td>Automatic</td>\n",
       "      <td>2500</td>\n",
       "      <td>81636</td>\n",
       "      <td>2023-08-24</td>\n",
       "      <td>2025-11-05</td>\n",
       "      <td>Second</td>\n",
       "      <td>6220</td>\n",
       "      <td>7</td>\n",
       "      <td>3</td>\n",
       "      <td>18.709467</td>\n",
       "      <td>New</td>\n",
       "      <td>Worn Out</td>\n",
       "      <td>New</td>\n",
       "      <td>1</td>\n",
       "    </tr>\n",
       "    <tr>\n",
       "      <th>4</th>\n",
       "      <td>Bus</td>\n",
       "      <td>45742</td>\n",
       "      <td>Poor</td>\n",
       "      <td>5</td>\n",
       "      <td>1</td>\n",
       "      <td>Petrol</td>\n",
       "      <td>Manual</td>\n",
       "      <td>2000</td>\n",
       "      <td>97162</td>\n",
       "      <td>2023-05-25</td>\n",
       "      <td>2025-09-14</td>\n",
       "      <td>Third</td>\n",
       "      <td>16446</td>\n",
       "      <td>6</td>\n",
       "      <td>2</td>\n",
       "      <td>16.977482</td>\n",
       "      <td>Good</td>\n",
       "      <td>Good</td>\n",
       "      <td>Weak</td>\n",
       "      <td>1</td>\n",
       "    </tr>\n",
       "  </tbody>\n",
       "</table>\n",
       "</div>"
      ],
      "text/plain": [
       "  Vehicle_Model  Mileage Maintenance_History  Reported_Issues  Vehicle_Age  \\\n",
       "0         Truck    58765                Good                0            4   \n",
       "1           Van    60353             Average                1            7   \n",
       "2           Bus    68072                Poor                0            2   \n",
       "3           Bus    60849             Average                4            5   \n",
       "4           Bus    45742                Poor                5            1   \n",
       "\n",
       "  Fuel_Type Transmission_Type  Engine_Size  Odometer_Reading  \\\n",
       "0  Electric         Automatic         2000             28524   \n",
       "1  Electric         Automatic         2500            133630   \n",
       "2  Electric         Automatic         1500             34022   \n",
       "3    Petrol         Automatic         2500             81636   \n",
       "4    Petrol            Manual         2000             97162   \n",
       "\n",
       "  Last_Service_Date Warranty_Expiry_Date Owner_Type  Insurance_Premium  \\\n",
       "0        2023-11-23           2025-06-24     Second              20782   \n",
       "1        2023-09-21           2025-06-04     Second              23489   \n",
       "2        2023-06-27           2025-04-27      First              17979   \n",
       "3        2023-08-24           2025-11-05     Second               6220   \n",
       "4        2023-05-25           2025-09-14      Third              16446   \n",
       "\n",
       "   Service_History  Accident_History  Fuel_Efficiency Tire_Condition  \\\n",
       "0                6                 3        13.622204            New   \n",
       "1                7                 0        13.625307            New   \n",
       "2                7                 0        14.306302            New   \n",
       "3                7                 3        18.709467            New   \n",
       "4                6                 2        16.977482           Good   \n",
       "\n",
       "  Brake_Condition Battery_Status  Need_Maintenance  \n",
       "0             New           Weak                 1  \n",
       "1             New           Weak                 1  \n",
       "2            Good           Weak                 1  \n",
       "3        Worn Out            New                 1  \n",
       "4            Good           Weak                 1  "
      ]
     },
     "execution_count": 3,
     "metadata": {},
     "output_type": "execute_result"
    }
   ],
   "source": [
    "df.head()"
   ]
  },
  {
   "cell_type": "code",
   "execution_count": 4,
   "id": "ddf589b4-6a0a-4e25-aa08-20b5b5174dc4",
   "metadata": {},
   "outputs": [
    {
     "data": {
      "text/plain": [
       "Index(['Vehicle_Model', 'Mileage', 'Maintenance_History', 'Reported_Issues',\n",
       "       'Vehicle_Age', 'Fuel_Type', 'Transmission_Type', 'Engine_Size',\n",
       "       'Odometer_Reading', 'Last_Service_Date', 'Warranty_Expiry_Date',\n",
       "       'Owner_Type', 'Insurance_Premium', 'Service_History',\n",
       "       'Accident_History', 'Fuel_Efficiency', 'Tire_Condition',\n",
       "       'Brake_Condition', 'Battery_Status', 'Need_Maintenance'],\n",
       "      dtype='object')"
      ]
     },
     "execution_count": 4,
     "metadata": {},
     "output_type": "execute_result"
    }
   ],
   "source": [
    "df.columns"
   ]
  },
  {
   "cell_type": "code",
   "execution_count": 5,
   "id": "d0e0cc83-be5c-4d25-af9c-f3085f7069da",
   "metadata": {},
   "outputs": [
    {
     "data": {
      "text/plain": [
       "Vehicle_Model\n",
       "Bus           8414\n",
       "Van           8400\n",
       "SUV           8360\n",
       "Truck         8328\n",
       "Motorcycle    8295\n",
       "Car           8203\n",
       "Name: count, dtype: int64"
      ]
     },
     "execution_count": 5,
     "metadata": {},
     "output_type": "execute_result"
    }
   ],
   "source": [
    "df['Vehicle_Model'].value_counts()"
   ]
  },
  {
   "cell_type": "code",
   "execution_count": 6,
   "id": "969e1dc0-e53f-4f8b-91b2-e59343380d04",
   "metadata": {},
   "outputs": [
    {
     "data": {
      "text/plain": [
       "Vehicle_Model           0\n",
       "Mileage                 0\n",
       "Maintenance_History     0\n",
       "Reported_Issues         0\n",
       "Vehicle_Age             0\n",
       "Fuel_Type               0\n",
       "Transmission_Type       0\n",
       "Engine_Size             0\n",
       "Odometer_Reading        0\n",
       "Last_Service_Date       0\n",
       "Warranty_Expiry_Date    0\n",
       "Owner_Type              0\n",
       "Insurance_Premium       0\n",
       "Service_History         0\n",
       "Accident_History        0\n",
       "Fuel_Efficiency         0\n",
       "Tire_Condition          0\n",
       "Brake_Condition         0\n",
       "Battery_Status          0\n",
       "Need_Maintenance        0\n",
       "dtype: int64"
      ]
     },
     "execution_count": 6,
     "metadata": {},
     "output_type": "execute_result"
    }
   ],
   "source": [
    "df.isnull().sum()"
   ]
  },
  {
   "cell_type": "code",
   "execution_count": 7,
   "id": "8d358f30-3fec-4da6-9b48-cfc3e6b8dfb1",
   "metadata": {},
   "outputs": [
    {
     "data": {
      "text/plain": [
       "(50000, 20)"
      ]
     },
     "execution_count": 7,
     "metadata": {},
     "output_type": "execute_result"
    }
   ],
   "source": [
    "df.shape"
   ]
  },
  {
   "cell_type": "code",
   "execution_count": 8,
   "id": "17d23173-c5dc-4cc0-b25d-78de5a024ae3",
   "metadata": {},
   "outputs": [
    {
     "data": {
      "text/plain": [
       "Vehicle_Model            object\n",
       "Mileage                   int64\n",
       "Maintenance_History      object\n",
       "Reported_Issues           int64\n",
       "Vehicle_Age               int64\n",
       "Fuel_Type                object\n",
       "Transmission_Type        object\n",
       "Engine_Size               int64\n",
       "Odometer_Reading          int64\n",
       "Last_Service_Date        object\n",
       "Warranty_Expiry_Date     object\n",
       "Owner_Type               object\n",
       "Insurance_Premium         int64\n",
       "Service_History           int64\n",
       "Accident_History          int64\n",
       "Fuel_Efficiency         float64\n",
       "Tire_Condition           object\n",
       "Brake_Condition          object\n",
       "Battery_Status           object\n",
       "Need_Maintenance          int64\n",
       "dtype: object"
      ]
     },
     "execution_count": 8,
     "metadata": {},
     "output_type": "execute_result"
    }
   ],
   "source": [
    "df.dtypes"
   ]
  },
  {
   "cell_type": "code",
   "execution_count": 9,
   "id": "1c7f90f2-2277-4e82-8f95-c9ec3b6df8f6",
   "metadata": {},
   "outputs": [],
   "source": [
    "#preprocessing"
   ]
  },
  {
   "cell_type": "code",
   "execution_count": 10,
   "id": "994f1538-903a-48b8-85f0-3f982ec7b720",
   "metadata": {},
   "outputs": [
    {
     "data": {
      "text/plain": [
       "Index(['Mileage', 'Reported_Issues', 'Vehicle_Age', 'Engine_Size',\n",
       "       'Odometer_Reading', 'Last_Service_Date', 'Warranty_Expiry_Date',\n",
       "       'Insurance_Premium', 'Service_History', 'Accident_History',\n",
       "       'Fuel_Efficiency', 'Need_Maintenance', 'days_without_service',\n",
       "       'warranty_left', 'Vehicle_Model_Bus', 'Vehicle_Model_Car',\n",
       "       'Vehicle_Model_Motorcycle', 'Vehicle_Model_SUV', 'Vehicle_Model_Truck',\n",
       "       'Vehicle_Model_Van', 'Maintenance_History_Average',\n",
       "       'Maintenance_History_Good', 'Maintenance_History_Poor',\n",
       "       'Fuel_Type_Diesel', 'Fuel_Type_Electric', 'Fuel_Type_Petrol',\n",
       "       'Transmission_Type_Automatic', 'Transmission_Type_Manual',\n",
       "       'Owner_Type_First', 'Owner_Type_Second', 'Owner_Type_Third',\n",
       "       'Tire_Condition_Good', 'Tire_Condition_New', 'Tire_Condition_Worn Out',\n",
       "       'Brake_Condition_Good', 'Brake_Condition_New',\n",
       "       'Brake_Condition_Worn Out', 'Battery_Status_Good', 'Battery_Status_New',\n",
       "       'Battery_Status_Weak'],\n",
       "      dtype='object')"
      ]
     },
     "execution_count": 10,
     "metadata": {},
     "output_type": "execute_result"
    }
   ],
   "source": [
    "df['Last_Service_Date']=pd.to_datetime(df['Last_Service_Date'])\n",
    "df['Warranty_Expiry_Date']=pd.to_datetime(df['Warranty_Expiry_Date'])\n",
    "df['days_without_service']=(pd.to_datetime('today')-df['Last_Service_Date']).dt.days\n",
    "df['warranty_left']=(pd.to_datetime('today')-df['Warranty_Expiry_Date']).dt.days\n",
    "len(df['Vehicle_Model'].unique())\n",
    "columns=['Vehicle_Model','Maintenance_History','Fuel_Type','Transmission_Type','Owner_Type','Tire_Condition','Brake_Condition','Battery_Status']\n",
    "data=pd.get_dummies(df,columns=columns)\n",
    "data.dtypes\n",
    "data.columns"
   ]
  },
  {
   "cell_type": "code",
   "execution_count": 63,
   "id": "2450bc94-f6e9-444d-b67b-5b4a4a48a419",
   "metadata": {},
   "outputs": [
    {
     "data": {
      "text/html": [
       "<div>\n",
       "<style scoped>\n",
       "    .dataframe tbody tr th:only-of-type {\n",
       "        vertical-align: middle;\n",
       "    }\n",
       "\n",
       "    .dataframe tbody tr th {\n",
       "        vertical-align: top;\n",
       "    }\n",
       "\n",
       "    .dataframe thead th {\n",
       "        text-align: right;\n",
       "    }\n",
       "</style>\n",
       "<table border=\"1\" class=\"dataframe\">\n",
       "  <thead>\n",
       "    <tr style=\"text-align: right;\">\n",
       "      <th></th>\n",
       "      <th>Mileage</th>\n",
       "      <th>Reported_Issues</th>\n",
       "      <th>Vehicle_Age</th>\n",
       "      <th>Engine_Size</th>\n",
       "      <th>Odometer_Reading</th>\n",
       "      <th>Last_Service_Date</th>\n",
       "      <th>Warranty_Expiry_Date</th>\n",
       "      <th>Insurance_Premium</th>\n",
       "      <th>Service_History</th>\n",
       "      <th>Accident_History</th>\n",
       "      <th>...</th>\n",
       "      <th>Owner_Type_Third</th>\n",
       "      <th>Tire_Condition_Good</th>\n",
       "      <th>Tire_Condition_New</th>\n",
       "      <th>Tire_Condition_Worn Out</th>\n",
       "      <th>Brake_Condition_Good</th>\n",
       "      <th>Brake_Condition_New</th>\n",
       "      <th>Brake_Condition_Worn Out</th>\n",
       "      <th>Battery_Status_Good</th>\n",
       "      <th>Battery_Status_New</th>\n",
       "      <th>Battery_Status_Weak</th>\n",
       "    </tr>\n",
       "  </thead>\n",
       "  <tbody>\n",
       "    <tr>\n",
       "      <th>0</th>\n",
       "      <td>0.266201</td>\n",
       "      <td>0</td>\n",
       "      <td>4</td>\n",
       "      <td>0.706912</td>\n",
       "      <td>-1.091430</td>\n",
       "      <td>2023-11-23</td>\n",
       "      <td>2025-06-24</td>\n",
       "      <td>0.459160</td>\n",
       "      <td>6</td>\n",
       "      <td>3</td>\n",
       "      <td>...</td>\n",
       "      <td>False</td>\n",
       "      <td>False</td>\n",
       "      <td>True</td>\n",
       "      <td>False</td>\n",
       "      <td>False</td>\n",
       "      <td>True</td>\n",
       "      <td>False</td>\n",
       "      <td>False</td>\n",
       "      <td>False</td>\n",
       "      <td>True</td>\n",
       "    </tr>\n",
       "    <tr>\n",
       "      <th>1</th>\n",
       "      <td>0.376465</td>\n",
       "      <td>1</td>\n",
       "      <td>7</td>\n",
       "      <td>1.503508</td>\n",
       "      <td>1.347922</td>\n",
       "      <td>2023-09-21</td>\n",
       "      <td>2025-06-04</td>\n",
       "      <td>0.833918</td>\n",
       "      <td>7</td>\n",
       "      <td>0</td>\n",
       "      <td>...</td>\n",
       "      <td>False</td>\n",
       "      <td>False</td>\n",
       "      <td>True</td>\n",
       "      <td>False</td>\n",
       "      <td>False</td>\n",
       "      <td>True</td>\n",
       "      <td>False</td>\n",
       "      <td>False</td>\n",
       "      <td>False</td>\n",
       "      <td>True</td>\n",
       "    </tr>\n",
       "    <tr>\n",
       "      <th>2</th>\n",
       "      <td>0.912441</td>\n",
       "      <td>0</td>\n",
       "      <td>2</td>\n",
       "      <td>-0.089684</td>\n",
       "      <td>-0.963830</td>\n",
       "      <td>2023-06-27</td>\n",
       "      <td>2025-04-27</td>\n",
       "      <td>0.071111</td>\n",
       "      <td>7</td>\n",
       "      <td>0</td>\n",
       "      <td>...</td>\n",
       "      <td>False</td>\n",
       "      <td>False</td>\n",
       "      <td>True</td>\n",
       "      <td>False</td>\n",
       "      <td>True</td>\n",
       "      <td>False</td>\n",
       "      <td>False</td>\n",
       "      <td>False</td>\n",
       "      <td>False</td>\n",
       "      <td>True</td>\n",
       "    </tr>\n",
       "    <tr>\n",
       "      <th>3</th>\n",
       "      <td>0.410906</td>\n",
       "      <td>4</td>\n",
       "      <td>5</td>\n",
       "      <td>1.503508</td>\n",
       "      <td>0.141219</td>\n",
       "      <td>2023-08-24</td>\n",
       "      <td>2025-11-05</td>\n",
       "      <td>-1.556810</td>\n",
       "      <td>7</td>\n",
       "      <td>3</td>\n",
       "      <td>...</td>\n",
       "      <td>False</td>\n",
       "      <td>False</td>\n",
       "      <td>True</td>\n",
       "      <td>False</td>\n",
       "      <td>False</td>\n",
       "      <td>False</td>\n",
       "      <td>True</td>\n",
       "      <td>False</td>\n",
       "      <td>True</td>\n",
       "      <td>False</td>\n",
       "    </tr>\n",
       "    <tr>\n",
       "      <th>4</th>\n",
       "      <td>-0.638063</td>\n",
       "      <td>5</td>\n",
       "      <td>1</td>\n",
       "      <td>0.706912</td>\n",
       "      <td>0.501554</td>\n",
       "      <td>2023-05-25</td>\n",
       "      <td>2025-09-14</td>\n",
       "      <td>-0.141118</td>\n",
       "      <td>6</td>\n",
       "      <td>2</td>\n",
       "      <td>...</td>\n",
       "      <td>True</td>\n",
       "      <td>True</td>\n",
       "      <td>False</td>\n",
       "      <td>False</td>\n",
       "      <td>True</td>\n",
       "      <td>False</td>\n",
       "      <td>False</td>\n",
       "      <td>False</td>\n",
       "      <td>False</td>\n",
       "      <td>True</td>\n",
       "    </tr>\n",
       "  </tbody>\n",
       "</table>\n",
       "<p>5 rows × 40 columns</p>\n",
       "</div>"
      ],
      "text/plain": [
       "    Mileage  Reported_Issues  Vehicle_Age  Engine_Size  Odometer_Reading  \\\n",
       "0  0.266201                0            4     0.706912         -1.091430   \n",
       "1  0.376465                1            7     1.503508          1.347922   \n",
       "2  0.912441                0            2    -0.089684         -0.963830   \n",
       "3  0.410906                4            5     1.503508          0.141219   \n",
       "4 -0.638063                5            1     0.706912          0.501554   \n",
       "\n",
       "  Last_Service_Date Warranty_Expiry_Date  Insurance_Premium  Service_History  \\\n",
       "0        2023-11-23           2025-06-24           0.459160                6   \n",
       "1        2023-09-21           2025-06-04           0.833918                7   \n",
       "2        2023-06-27           2025-04-27           0.071111                7   \n",
       "3        2023-08-24           2025-11-05          -1.556810                7   \n",
       "4        2023-05-25           2025-09-14          -0.141118                6   \n",
       "\n",
       "   Accident_History  ...  Owner_Type_Third  Tire_Condition_Good  \\\n",
       "0                 3  ...             False                False   \n",
       "1                 0  ...             False                False   \n",
       "2                 0  ...             False                False   \n",
       "3                 3  ...             False                False   \n",
       "4                 2  ...              True                 True   \n",
       "\n",
       "   Tire_Condition_New  Tire_Condition_Worn Out  Brake_Condition_Good  \\\n",
       "0                True                    False                 False   \n",
       "1                True                    False                 False   \n",
       "2                True                    False                  True   \n",
       "3                True                    False                 False   \n",
       "4               False                    False                  True   \n",
       "\n",
       "   Brake_Condition_New  Brake_Condition_Worn Out  Battery_Status_Good  \\\n",
       "0                 True                     False                False   \n",
       "1                 True                     False                False   \n",
       "2                False                     False                False   \n",
       "3                False                      True                False   \n",
       "4                False                     False                False   \n",
       "\n",
       "   Battery_Status_New  Battery_Status_Weak  \n",
       "0               False                 True  \n",
       "1               False                 True  \n",
       "2               False                 True  \n",
       "3                True                False  \n",
       "4               False                 True  \n",
       "\n",
       "[5 rows x 40 columns]"
      ]
     },
     "execution_count": 63,
     "metadata": {},
     "output_type": "execute_result"
    }
   ],
   "source": [
    "from sklearn.preprocessing import StandardScaler\n",
    "scaler=StandardScaler()\n",
    "columns=['Mileage','Engine_Size','Odometer_Reading','Fuel_Efficiency','Insurance_Premium']\n",
    "data[columns]=scaler.fit_transform(data[columns])\n",
    "data.head()"
   ]
  },
  {
   "cell_type": "code",
   "execution_count": 64,
   "id": "3dad2213-e298-4cde-a00d-45276a09d3fd",
   "metadata": {},
   "outputs": [
    {
     "data": {
      "text/plain": [
       "Index(['Reported_Issues', 'Vehicle_Age', 'Engine_Size', 'Odometer_Reading',\n",
       "       'Service_History', 'Accident_History', 'days_without_service',\n",
       "       'warranty_left', 'Vehicle_Model_Bus', 'Vehicle_Model_Car',\n",
       "       'Vehicle_Model_Motorcycle', 'Vehicle_Model_SUV', 'Vehicle_Model_Truck',\n",
       "       'Vehicle_Model_Van', 'Maintenance_History_Average',\n",
       "       'Maintenance_History_Good', 'Maintenance_History_Poor',\n",
       "       'Fuel_Type_Diesel', 'Fuel_Type_Electric', 'Fuel_Type_Petrol',\n",
       "       'Transmission_Type_Automatic', 'Transmission_Type_Manual',\n",
       "       'Owner_Type_First', 'Owner_Type_Second', 'Owner_Type_Third',\n",
       "       'Tire_Condition_Good', 'Tire_Condition_New', 'Tire_Condition_Worn Out',\n",
       "       'Brake_Condition_Good', 'Brake_Condition_New',\n",
       "       'Brake_Condition_Worn Out', 'Battery_Status_Good', 'Battery_Status_New',\n",
       "       'Battery_Status_Weak'],\n",
       "      dtype='object')"
      ]
     },
     "execution_count": 64,
     "metadata": {},
     "output_type": "execute_result"
    }
   ],
   "source": [
    "x=data.drop(['Need_Maintenance','Last_Service_Date','Warranty_Expiry_Date','Mileage','Insurance_Premium','Fuel_Efficiency'],axis=1)\n",
    "y=data['Need_Maintenance']\n",
    "x.columns\n"
   ]
  },
  {
   "cell_type": "code",
   "execution_count": 93,
   "id": "ebd31bef-7508-4d8d-8a29-3dac744d5465",
   "metadata": {},
   "outputs": [],
   "source": [
    "from sklearn.model_selection import train_test_split\n",
    "x_train,x_test,y_train,y_test=train_test_split(x,y,test_size=0.3,random_state=42)\n"
   ]
  },
  {
   "cell_type": "code",
   "execution_count": 66,
   "id": "ee168615-8834-4a74-994d-0770b49afa04",
   "metadata": {},
   "outputs": [
    {
     "name": "stdout",
     "output_type": "stream",
     "text": [
      "Logistic Regression Accuracy\n",
      "\n",
      "0.9514666666666667\n",
      "\n",
      "Logistic regression accuracy after Cross Validation\n",
      "0.9513\n"
     ]
    }
   ],
   "source": [
    "from sklearn.metrics import accuracy_score\n",
    "from sklearn.model_selection import cross_val_score\n",
    "from sklearn.linear_model import LogisticRegression\n",
    "lr=LogisticRegression(max_iter=2000)\n",
    "lr.fit(x_train,y_train)\n",
    "lr_pred=lr.predict(x_test)\n",
    "print(\"Logistic Regression Accuracy\\n\")\n",
    "print(accuracy_score(y_test,lr_pred))\n",
    "print(\"\\nLogistic regression accuracy after Cross Validation\")\n",
    "scores=cross_val_score(lr,x,y,cv=5)\n",
    "print(scores.mean())\n",
    "\n"
   ]
  },
  {
   "cell_type": "code",
   "execution_count": 67,
   "id": "db225fca-120e-463e-9504-3d1758fd54dd",
   "metadata": {},
   "outputs": [
    {
     "name": "stdout",
     "output_type": "stream",
     "text": [
      "gradient boosting classifier accuracy\n",
      "\n",
      "1.0\n",
      "gradient boosting classifier accuracy after cross validation\n",
      "1.0\n"
     ]
    }
   ],
   "source": [
    "from sklearn.ensemble import GradientBoostingClassifier\n",
    "gb=GradientBoostingClassifier(n_estimators=100,max_depth=3,learning_rate=0.1)\n",
    "gb.fit(x_train,y_train)\n",
    "gb_pred=gb.predict(x_test)\n",
    "print(\"gradient boosting classifier accuracy\\n\")\n",
    "print(accuracy_score(y_test,gb_pred))\n",
    "scores=cross_val_score(gb,x,y,cv=5)\n",
    "print(\"gradient boosting classifier accuracy after cross validation\")\n",
    "print(scores.mean())"
   ]
  },
  {
   "cell_type": "code",
   "execution_count": 16,
   "id": "5380b23b-b196-4a0f-846e-86716c44a34f",
   "metadata": {
    "scrolled": true
   },
   "outputs": [
    {
     "name": "stdout",
     "output_type": "stream",
     "text": [
      "Support Vector Classifier Accuracy:\n",
      "0.8096666666666666\n",
      "Support Vector Classifier Accuracy after Cross validation\n",
      "0.809960000247973\n"
     ]
    }
   ],
   "source": [
    "from sklearn.svm import SVC\n",
    "sv=SVC()\n",
    "sv.fit(x_train,y_train)\n",
    "sv_pred=sv.predict(x_test)\n",
    "print(\"Support Vector Classifier Accuracy:\")\n",
    "print(accuracy_score(y_test,sv_pred))\n",
    "scores=cross_val_score(sv,x,y,cv=3)\n",
    "print(\"Support Vector Classifier Accuracy after Cross validation\")\n",
    "print(scores.mean())\n",
    "\n"
   ]
  },
  {
   "cell_type": "code",
   "execution_count": 68,
   "id": "9089375b-8c0b-438b-a603-7f463e33f70f",
   "metadata": {},
   "outputs": [
    {
     "name": "stdout",
     "output_type": "stream",
     "text": [
      "model loaded\n"
     ]
    }
   ],
   "source": [
    "import pickle\n",
    "with open('lr.pkl','wb') as file:\n",
    "    pickle.dump(lr,file)\n",
    "print(\"model loaded\")    "
   ]
  },
  {
   "cell_type": "code",
   "execution_count": 69,
   "id": "cc929205-81c0-4737-b478-7ae6d4a0da4a",
   "metadata": {},
   "outputs": [
    {
     "name": "stdout",
     "output_type": "stream",
     "text": [
      "model loaded\n"
     ]
    }
   ],
   "source": [
    "with open('lr.pkl','rb') as file:\n",
    "    model=pickle.load(file)\n",
    "print(\"model loaded\")    "
   ]
  },
  {
   "cell_type": "code",
   "execution_count": 70,
   "id": "06b2ba36-96ef-4065-9752-bae1e90f4a34",
   "metadata": {},
   "outputs": [
    {
     "name": "stdout",
     "output_type": "stream",
     "text": [
      "prediction 1 :  [1]\n",
      "actual : 1\n",
      "prediction 2:  [1]\n",
      "actual : 1\n"
     ]
    }
   ],
   "source": [
    "#testing\n",
    "pred1=model.predict(x_test.iloc[[0]])\n",
    "print(\"prediction 1 : \",pred1)\n",
    "print(\"actual :\",y_test.iloc[0])\n",
    "pred2=model.predict(x_test.iloc[[20]])\n",
    "print(\"prediction 2: \",pred2)\n",
    "print(\"actual :\",y_test.iloc[20])"
   ]
  },
  {
   "cell_type": "code",
   "execution_count": 91,
   "id": "ef07e4bd-2499-42c4-86ff-254a579a42d7",
   "metadata": {},
   "outputs": [
    {
     "data": {
      "text/plain": [
       "Index(['Reported_Issues', 'Vehicle_Age', 'Engine_Size', 'Odometer_Reading',\n",
       "       'Service_History', 'Accident_History', 'Need_Maintenance',\n",
       "       'days_without_service', 'warranty_left', 'Vehicle_Model_Bus',\n",
       "       'Vehicle_Model_Car', 'Vehicle_Model_Motorcycle', 'Vehicle_Model_SUV',\n",
       "       'Vehicle_Model_Truck', 'Vehicle_Model_Van',\n",
       "       'Maintenance_History_Average', 'Maintenance_History_Good',\n",
       "       'Maintenance_History_Poor', 'Fuel_Type_Diesel', 'Fuel_Type_Electric',\n",
       "       'Fuel_Type_Petrol', 'Transmission_Type_Automatic',\n",
       "       'Transmission_Type_Manual', 'Owner_Type_First', 'Owner_Type_Second',\n",
       "       'Owner_Type_Third', 'Tire_Condition_Good', 'Tire_Condition_New',\n",
       "       'Tire_Condition_Worn Out', 'Brake_Condition_Good',\n",
       "       'Brake_Condition_New', 'Brake_Condition_Worn Out',\n",
       "       'Battery_Status_Good', 'Battery_Status_New', 'Battery_Status_Weak'],\n",
       "      dtype='object')"
      ]
     },
     "execution_count": 91,
     "metadata": {},
     "output_type": "execute_result"
    }
   ],
   "source": [
    "\n",
    "x2=data.drop(['Mileage','Last_Service_Date','Warranty_Expiry_Date','Insurance_Premium','Fuel_Efficiency'],axis=1)\n",
    "y2=df['Fuel_Efficiency']\n",
    "x2.columns"
   ]
  },
  {
   "cell_type": "code",
   "execution_count": 85,
   "id": "1e4d4d3f-9b1d-4562-be5e-4cfee7b29ec2",
   "metadata": {},
   "outputs": [
    {
     "name": "stdout",
     "output_type": "stream",
     "text": [
      "2.6403905575987765\n"
     ]
    }
   ],
   "source": [
    "from sklearn.neighbors import KNeighborsRegressor\n",
    "kn=KNeighborsRegressor()\n",
    "kn.fit(x2_train,y2_train)\n",
    "kn_pred=kn.predict(x2_test)\n",
    "print(mean_absolute_error(y2_test,kn_pred))"
   ]
  },
  {
   "cell_type": "code",
   "execution_count": 139,
   "id": "e0fdbc50-5353-4366-9d14-3db3c8ed6af3",
   "metadata": {},
   "outputs": [
    {
     "name": "stdout",
     "output_type": "stream",
     "text": [
      "model loaded\n"
     ]
    }
   ],
   "source": [
    "with open('ln.pkl','wb') as file:\n",
    "    pickle.dump(kn,file)\n",
    "print(\"model loaded\")    "
   ]
  },
  {
   "cell_type": "code",
   "execution_count": 140,
   "id": "47336e86-91e6-4d43-9f29-a62dbed6bb70",
   "metadata": {},
   "outputs": [
    {
     "name": "stdout",
     "output_type": "stream",
     "text": [
      "model loaded\n"
     ]
    }
   ],
   "source": [
    "with open('ln.pkl','rb') as file:\n",
    "    model2=pickle.load(file)\n",
    "print(\"model loaded\")"
   ]
  },
  {
   "cell_type": "code",
   "execution_count": 144,
   "id": "a39e70ee-cccb-4886-960b-505a3dbfc20e",
   "metadata": {},
   "outputs": [
    {
     "name": "stdout",
     "output_type": "stream",
     "text": [
      "prediction 1 :  [14.51631729]\n",
      "actual : 13.533694475628016\n"
     ]
    }
   ],
   "source": [
    "# testing\n",
    "pred1=model2.predict(x2_test.iloc[[70]])\n",
    "print(\"prediction 1 : \",pred1)\n",
    "print(\"actual :\",y2_test.iloc[70])"
   ]
  },
  {
   "cell_type": "code",
   "execution_count": null,
   "id": "30e7282f-2eca-4c91-9e15-3e767d8d0563",
   "metadata": {},
   "outputs": [],
   "source": []
  }
 ],
 "metadata": {
  "kernelspec": {
   "display_name": "Python 3 (ipykernel)",
   "language": "python",
   "name": "python3"
  },
  "language_info": {
   "codemirror_mode": {
    "name": "ipython",
    "version": 3
   },
   "file_extension": ".py",
   "mimetype": "text/x-python",
   "name": "python",
   "nbconvert_exporter": "python",
   "pygments_lexer": "ipython3",
   "version": "3.12.3"
  }
 },
 "nbformat": 4,
 "nbformat_minor": 5
}
